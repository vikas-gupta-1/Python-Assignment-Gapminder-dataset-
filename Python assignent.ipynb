{
  "nbformat": 4,
  "nbformat_minor": 0,
  "metadata": {
    "colab": {
      "provenance": []
    },
    "kernelspec": {
      "name": "python3",
      "display_name": "Python 3"
    },
    "language_info": {
      "name": "python"
    }
  },
  "cells": [
    {
      "cell_type": "markdown",
      "source": [
        "# Individual assignment\n",
        "\n",
        "The assignment focuses on:\n",
        "\n",
        "1.   Describing variables;\n",
        "2.   Visualising variables of interest;\n",
        "3.   Running a simple regression and interpret its results; and\n",
        "4.   Discussing what identification strategy would be suitable for solving the endogeneity problem.\n",
        "\n"
      ],
      "metadata": {
        "id": "aUXJakoZUrLH"
      }
    },
    {
      "cell_type": "markdown",
      "source": [
        "## INSTRUCTIONS: PLEASE READ CAREFULLY AND FOLLOW\n",
        "\n",
        "*   Please choose **one** dataset from the tile of Individual Assignment (not datasets for tutorials).\n",
        "*   Please feel free to add as many code blocks and text blocks as you need.\n",
        "*   Please **clearly comment** your code (what does each line of code produce).\n",
        "*   Please do **NOT** remove any text blocks provided. Otherwise, you may get a penalty of 10 points."
      ],
      "metadata": {
        "id": "vLrAH9PoVZE0"
      }
    },
    {
      "cell_type": "markdown",
      "source": [
        "### Part I\n",
        "\n",
        "This section has a maximum of **10 points**. To earn the maximum number of points, you should answer the following three questions.\n",
        "\n",
        "* Name the dataset you choose.\n",
        "\n",
        "* Discuss the units of measurement of all the variables.\n",
        "\n",
        "* List the type of variables of all the variables.\n",
        "\n"
      ],
      "metadata": {
        "id": "FRAn9B7WWGOE"
      }
    },
    {
      "cell_type": "markdown",
      "source": [
        "**Name the dataset you choose.?**\n",
        "\n",
        "I am chosing gapminder dataset for my assignment"
      ],
      "metadata": {
        "id": "kXTTZJWePNFl"
      }
    },
    {
      "cell_type": "code",
      "source": [
        "import pandas as pd"
      ],
      "metadata": {
        "id": "pen1mYhxWf3A"
      },
      "execution_count": 1,
      "outputs": []
    },
    {
      "cell_type": "code",
      "source": [
        "df=pd.read_excel('/content/gapminder.xlsx')\n",
        "df"
      ],
      "metadata": {
        "colab": {
          "base_uri": "https://localhost:8080/",
          "height": 423
        },
        "id": "_pT3t61mPXUZ",
        "outputId": "0593ec79-6f81-40f2-c20c-0e954290f9ac"
      },
      "execution_count": 2,
      "outputs": [
        {
          "output_type": "execute_result",
          "data": {
            "text/plain": [
              "          country continent  year  lifeExp       pop   gdpPercap\n",
              "0     Afghanistan      Asia  1952   28.801   8425333  779.445314\n",
              "1     Afghanistan      Asia  1957   30.332   9240934  820.853030\n",
              "2     Afghanistan      Asia  1962   31.997  10267083  853.100710\n",
              "3     Afghanistan      Asia  1967   34.020  11537966  836.197138\n",
              "4     Afghanistan      Asia  1972   36.088  13079460  739.981106\n",
              "...           ...       ...   ...      ...       ...         ...\n",
              "1699     Zimbabwe    Africa  1987   62.351   9216418  706.157306\n",
              "1700     Zimbabwe    Africa  1992   60.377  10704340  693.420786\n",
              "1701     Zimbabwe    Africa  1997   46.809  11404948  792.449960\n",
              "1702     Zimbabwe    Africa  2002   39.989  11926563  672.038623\n",
              "1703     Zimbabwe    Africa  2007   43.487  12311143  469.709298\n",
              "\n",
              "[1704 rows x 6 columns]"
            ],
            "text/html": [
              "\n",
              "  <div id=\"df-8562b766-cb49-48f7-8b8a-13217fee6062\" class=\"colab-df-container\">\n",
              "    <div>\n",
              "<style scoped>\n",
              "    .dataframe tbody tr th:only-of-type {\n",
              "        vertical-align: middle;\n",
              "    }\n",
              "\n",
              "    .dataframe tbody tr th {\n",
              "        vertical-align: top;\n",
              "    }\n",
              "\n",
              "    .dataframe thead th {\n",
              "        text-align: right;\n",
              "    }\n",
              "</style>\n",
              "<table border=\"1\" class=\"dataframe\">\n",
              "  <thead>\n",
              "    <tr style=\"text-align: right;\">\n",
              "      <th></th>\n",
              "      <th>country</th>\n",
              "      <th>continent</th>\n",
              "      <th>year</th>\n",
              "      <th>lifeExp</th>\n",
              "      <th>pop</th>\n",
              "      <th>gdpPercap</th>\n",
              "    </tr>\n",
              "  </thead>\n",
              "  <tbody>\n",
              "    <tr>\n",
              "      <th>0</th>\n",
              "      <td>Afghanistan</td>\n",
              "      <td>Asia</td>\n",
              "      <td>1952</td>\n",
              "      <td>28.801</td>\n",
              "      <td>8425333</td>\n",
              "      <td>779.445314</td>\n",
              "    </tr>\n",
              "    <tr>\n",
              "      <th>1</th>\n",
              "      <td>Afghanistan</td>\n",
              "      <td>Asia</td>\n",
              "      <td>1957</td>\n",
              "      <td>30.332</td>\n",
              "      <td>9240934</td>\n",
              "      <td>820.853030</td>\n",
              "    </tr>\n",
              "    <tr>\n",
              "      <th>2</th>\n",
              "      <td>Afghanistan</td>\n",
              "      <td>Asia</td>\n",
              "      <td>1962</td>\n",
              "      <td>31.997</td>\n",
              "      <td>10267083</td>\n",
              "      <td>853.100710</td>\n",
              "    </tr>\n",
              "    <tr>\n",
              "      <th>3</th>\n",
              "      <td>Afghanistan</td>\n",
              "      <td>Asia</td>\n",
              "      <td>1967</td>\n",
              "      <td>34.020</td>\n",
              "      <td>11537966</td>\n",
              "      <td>836.197138</td>\n",
              "    </tr>\n",
              "    <tr>\n",
              "      <th>4</th>\n",
              "      <td>Afghanistan</td>\n",
              "      <td>Asia</td>\n",
              "      <td>1972</td>\n",
              "      <td>36.088</td>\n",
              "      <td>13079460</td>\n",
              "      <td>739.981106</td>\n",
              "    </tr>\n",
              "    <tr>\n",
              "      <th>...</th>\n",
              "      <td>...</td>\n",
              "      <td>...</td>\n",
              "      <td>...</td>\n",
              "      <td>...</td>\n",
              "      <td>...</td>\n",
              "      <td>...</td>\n",
              "    </tr>\n",
              "    <tr>\n",
              "      <th>1699</th>\n",
              "      <td>Zimbabwe</td>\n",
              "      <td>Africa</td>\n",
              "      <td>1987</td>\n",
              "      <td>62.351</td>\n",
              "      <td>9216418</td>\n",
              "      <td>706.157306</td>\n",
              "    </tr>\n",
              "    <tr>\n",
              "      <th>1700</th>\n",
              "      <td>Zimbabwe</td>\n",
              "      <td>Africa</td>\n",
              "      <td>1992</td>\n",
              "      <td>60.377</td>\n",
              "      <td>10704340</td>\n",
              "      <td>693.420786</td>\n",
              "    </tr>\n",
              "    <tr>\n",
              "      <th>1701</th>\n",
              "      <td>Zimbabwe</td>\n",
              "      <td>Africa</td>\n",
              "      <td>1997</td>\n",
              "      <td>46.809</td>\n",
              "      <td>11404948</td>\n",
              "      <td>792.449960</td>\n",
              "    </tr>\n",
              "    <tr>\n",
              "      <th>1702</th>\n",
              "      <td>Zimbabwe</td>\n",
              "      <td>Africa</td>\n",
              "      <td>2002</td>\n",
              "      <td>39.989</td>\n",
              "      <td>11926563</td>\n",
              "      <td>672.038623</td>\n",
              "    </tr>\n",
              "    <tr>\n",
              "      <th>1703</th>\n",
              "      <td>Zimbabwe</td>\n",
              "      <td>Africa</td>\n",
              "      <td>2007</td>\n",
              "      <td>43.487</td>\n",
              "      <td>12311143</td>\n",
              "      <td>469.709298</td>\n",
              "    </tr>\n",
              "  </tbody>\n",
              "</table>\n",
              "<p>1704 rows × 6 columns</p>\n",
              "</div>\n",
              "    <div class=\"colab-df-buttons\">\n",
              "\n",
              "  <div class=\"colab-df-container\">\n",
              "    <button class=\"colab-df-convert\" onclick=\"convertToInteractive('df-8562b766-cb49-48f7-8b8a-13217fee6062')\"\n",
              "            title=\"Convert this dataframe to an interactive table.\"\n",
              "            style=\"display:none;\">\n",
              "\n",
              "  <svg xmlns=\"http://www.w3.org/2000/svg\" height=\"24px\" viewBox=\"0 -960 960 960\">\n",
              "    <path d=\"M120-120v-720h720v720H120Zm60-500h600v-160H180v160Zm220 220h160v-160H400v160Zm0 220h160v-160H400v160ZM180-400h160v-160H180v160Zm440 0h160v-160H620v160ZM180-180h160v-160H180v160Zm440 0h160v-160H620v160Z\"/>\n",
              "  </svg>\n",
              "    </button>\n",
              "\n",
              "  <style>\n",
              "    .colab-df-container {\n",
              "      display:flex;\n",
              "      gap: 12px;\n",
              "    }\n",
              "\n",
              "    .colab-df-convert {\n",
              "      background-color: #E8F0FE;\n",
              "      border: none;\n",
              "      border-radius: 50%;\n",
              "      cursor: pointer;\n",
              "      display: none;\n",
              "      fill: #1967D2;\n",
              "      height: 32px;\n",
              "      padding: 0 0 0 0;\n",
              "      width: 32px;\n",
              "    }\n",
              "\n",
              "    .colab-df-convert:hover {\n",
              "      background-color: #E2EBFA;\n",
              "      box-shadow: 0px 1px 2px rgba(60, 64, 67, 0.3), 0px 1px 3px 1px rgba(60, 64, 67, 0.15);\n",
              "      fill: #174EA6;\n",
              "    }\n",
              "\n",
              "    .colab-df-buttons div {\n",
              "      margin-bottom: 4px;\n",
              "    }\n",
              "\n",
              "    [theme=dark] .colab-df-convert {\n",
              "      background-color: #3B4455;\n",
              "      fill: #D2E3FC;\n",
              "    }\n",
              "\n",
              "    [theme=dark] .colab-df-convert:hover {\n",
              "      background-color: #434B5C;\n",
              "      box-shadow: 0px 1px 3px 1px rgba(0, 0, 0, 0.15);\n",
              "      filter: drop-shadow(0px 1px 2px rgba(0, 0, 0, 0.3));\n",
              "      fill: #FFFFFF;\n",
              "    }\n",
              "  </style>\n",
              "\n",
              "    <script>\n",
              "      const buttonEl =\n",
              "        document.querySelector('#df-8562b766-cb49-48f7-8b8a-13217fee6062 button.colab-df-convert');\n",
              "      buttonEl.style.display =\n",
              "        google.colab.kernel.accessAllowed ? 'block' : 'none';\n",
              "\n",
              "      async function convertToInteractive(key) {\n",
              "        const element = document.querySelector('#df-8562b766-cb49-48f7-8b8a-13217fee6062');\n",
              "        const dataTable =\n",
              "          await google.colab.kernel.invokeFunction('convertToInteractive',\n",
              "                                                    [key], {});\n",
              "        if (!dataTable) return;\n",
              "\n",
              "        const docLinkHtml = 'Like what you see? Visit the ' +\n",
              "          '<a target=\"_blank\" href=https://colab.research.google.com/notebooks/data_table.ipynb>data table notebook</a>'\n",
              "          + ' to learn more about interactive tables.';\n",
              "        element.innerHTML = '';\n",
              "        dataTable['output_type'] = 'display_data';\n",
              "        await google.colab.output.renderOutput(dataTable, element);\n",
              "        const docLink = document.createElement('div');\n",
              "        docLink.innerHTML = docLinkHtml;\n",
              "        element.appendChild(docLink);\n",
              "      }\n",
              "    </script>\n",
              "  </div>\n",
              "\n",
              "\n",
              "<div id=\"df-ceaf1bcc-9f12-4aba-a9a3-41970106965d\">\n",
              "  <button class=\"colab-df-quickchart\" onclick=\"quickchart('df-ceaf1bcc-9f12-4aba-a9a3-41970106965d')\"\n",
              "            title=\"Suggest charts\"\n",
              "            style=\"display:none;\">\n",
              "\n",
              "<svg xmlns=\"http://www.w3.org/2000/svg\" height=\"24px\"viewBox=\"0 0 24 24\"\n",
              "     width=\"24px\">\n",
              "    <g>\n",
              "        <path d=\"M19 3H5c-1.1 0-2 .9-2 2v14c0 1.1.9 2 2 2h14c1.1 0 2-.9 2-2V5c0-1.1-.9-2-2-2zM9 17H7v-7h2v7zm4 0h-2V7h2v10zm4 0h-2v-4h2v4z\"/>\n",
              "    </g>\n",
              "</svg>\n",
              "  </button>\n",
              "\n",
              "<style>\n",
              "  .colab-df-quickchart {\n",
              "      --bg-color: #E8F0FE;\n",
              "      --fill-color: #1967D2;\n",
              "      --hover-bg-color: #E2EBFA;\n",
              "      --hover-fill-color: #174EA6;\n",
              "      --disabled-fill-color: #AAA;\n",
              "      --disabled-bg-color: #DDD;\n",
              "  }\n",
              "\n",
              "  [theme=dark] .colab-df-quickchart {\n",
              "      --bg-color: #3B4455;\n",
              "      --fill-color: #D2E3FC;\n",
              "      --hover-bg-color: #434B5C;\n",
              "      --hover-fill-color: #FFFFFF;\n",
              "      --disabled-bg-color: #3B4455;\n",
              "      --disabled-fill-color: #666;\n",
              "  }\n",
              "\n",
              "  .colab-df-quickchart {\n",
              "    background-color: var(--bg-color);\n",
              "    border: none;\n",
              "    border-radius: 50%;\n",
              "    cursor: pointer;\n",
              "    display: none;\n",
              "    fill: var(--fill-color);\n",
              "    height: 32px;\n",
              "    padding: 0;\n",
              "    width: 32px;\n",
              "  }\n",
              "\n",
              "  .colab-df-quickchart:hover {\n",
              "    background-color: var(--hover-bg-color);\n",
              "    box-shadow: 0 1px 2px rgba(60, 64, 67, 0.3), 0 1px 3px 1px rgba(60, 64, 67, 0.15);\n",
              "    fill: var(--button-hover-fill-color);\n",
              "  }\n",
              "\n",
              "  .colab-df-quickchart-complete:disabled,\n",
              "  .colab-df-quickchart-complete:disabled:hover {\n",
              "    background-color: var(--disabled-bg-color);\n",
              "    fill: var(--disabled-fill-color);\n",
              "    box-shadow: none;\n",
              "  }\n",
              "\n",
              "  .colab-df-spinner {\n",
              "    border: 2px solid var(--fill-color);\n",
              "    border-color: transparent;\n",
              "    border-bottom-color: var(--fill-color);\n",
              "    animation:\n",
              "      spin 1s steps(1) infinite;\n",
              "  }\n",
              "\n",
              "  @keyframes spin {\n",
              "    0% {\n",
              "      border-color: transparent;\n",
              "      border-bottom-color: var(--fill-color);\n",
              "      border-left-color: var(--fill-color);\n",
              "    }\n",
              "    20% {\n",
              "      border-color: transparent;\n",
              "      border-left-color: var(--fill-color);\n",
              "      border-top-color: var(--fill-color);\n",
              "    }\n",
              "    30% {\n",
              "      border-color: transparent;\n",
              "      border-left-color: var(--fill-color);\n",
              "      border-top-color: var(--fill-color);\n",
              "      border-right-color: var(--fill-color);\n",
              "    }\n",
              "    40% {\n",
              "      border-color: transparent;\n",
              "      border-right-color: var(--fill-color);\n",
              "      border-top-color: var(--fill-color);\n",
              "    }\n",
              "    60% {\n",
              "      border-color: transparent;\n",
              "      border-right-color: var(--fill-color);\n",
              "    }\n",
              "    80% {\n",
              "      border-color: transparent;\n",
              "      border-right-color: var(--fill-color);\n",
              "      border-bottom-color: var(--fill-color);\n",
              "    }\n",
              "    90% {\n",
              "      border-color: transparent;\n",
              "      border-bottom-color: var(--fill-color);\n",
              "    }\n",
              "  }\n",
              "</style>\n",
              "\n",
              "  <script>\n",
              "    async function quickchart(key) {\n",
              "      const quickchartButtonEl =\n",
              "        document.querySelector('#' + key + ' button');\n",
              "      quickchartButtonEl.disabled = true;  // To prevent multiple clicks.\n",
              "      quickchartButtonEl.classList.add('colab-df-spinner');\n",
              "      try {\n",
              "        const charts = await google.colab.kernel.invokeFunction(\n",
              "            'suggestCharts', [key], {});\n",
              "      } catch (error) {\n",
              "        console.error('Error during call to suggestCharts:', error);\n",
              "      }\n",
              "      quickchartButtonEl.classList.remove('colab-df-spinner');\n",
              "      quickchartButtonEl.classList.add('colab-df-quickchart-complete');\n",
              "    }\n",
              "    (() => {\n",
              "      let quickchartButtonEl =\n",
              "        document.querySelector('#df-ceaf1bcc-9f12-4aba-a9a3-41970106965d button');\n",
              "      quickchartButtonEl.style.display =\n",
              "        google.colab.kernel.accessAllowed ? 'block' : 'none';\n",
              "    })();\n",
              "  </script>\n",
              "</div>\n",
              "\n",
              "  <div id=\"id_ce908120-ff75-4f1e-bda9-8028822f5537\">\n",
              "    <style>\n",
              "      .colab-df-generate {\n",
              "        background-color: #E8F0FE;\n",
              "        border: none;\n",
              "        border-radius: 50%;\n",
              "        cursor: pointer;\n",
              "        display: none;\n",
              "        fill: #1967D2;\n",
              "        height: 32px;\n",
              "        padding: 0 0 0 0;\n",
              "        width: 32px;\n",
              "      }\n",
              "\n",
              "      .colab-df-generate:hover {\n",
              "        background-color: #E2EBFA;\n",
              "        box-shadow: 0px 1px 2px rgba(60, 64, 67, 0.3), 0px 1px 3px 1px rgba(60, 64, 67, 0.15);\n",
              "        fill: #174EA6;\n",
              "      }\n",
              "\n",
              "      [theme=dark] .colab-df-generate {\n",
              "        background-color: #3B4455;\n",
              "        fill: #D2E3FC;\n",
              "      }\n",
              "\n",
              "      [theme=dark] .colab-df-generate:hover {\n",
              "        background-color: #434B5C;\n",
              "        box-shadow: 0px 1px 3px 1px rgba(0, 0, 0, 0.15);\n",
              "        filter: drop-shadow(0px 1px 2px rgba(0, 0, 0, 0.3));\n",
              "        fill: #FFFFFF;\n",
              "      }\n",
              "    </style>\n",
              "    <button class=\"colab-df-generate\" onclick=\"generateWithVariable('df')\"\n",
              "            title=\"Generate code using this dataframe.\"\n",
              "            style=\"display:none;\">\n",
              "\n",
              "  <svg xmlns=\"http://www.w3.org/2000/svg\" height=\"24px\"viewBox=\"0 0 24 24\"\n",
              "       width=\"24px\">\n",
              "    <path d=\"M7,19H8.4L18.45,9,17,7.55,7,17.6ZM5,21V16.75L18.45,3.32a2,2,0,0,1,2.83,0l1.4,1.43a1.91,1.91,0,0,1,.58,1.4,1.91,1.91,0,0,1-.58,1.4L9.25,21ZM18.45,9,17,7.55Zm-12,3A5.31,5.31,0,0,0,4.9,8.1,5.31,5.31,0,0,0,1,6.5,5.31,5.31,0,0,0,4.9,4.9,5.31,5.31,0,0,0,6.5,1,5.31,5.31,0,0,0,8.1,4.9,5.31,5.31,0,0,0,12,6.5,5.46,5.46,0,0,0,6.5,12Z\"/>\n",
              "  </svg>\n",
              "    </button>\n",
              "    <script>\n",
              "      (() => {\n",
              "      const buttonEl =\n",
              "        document.querySelector('#id_ce908120-ff75-4f1e-bda9-8028822f5537 button.colab-df-generate');\n",
              "      buttonEl.style.display =\n",
              "        google.colab.kernel.accessAllowed ? 'block' : 'none';\n",
              "\n",
              "      buttonEl.onclick = () => {\n",
              "        google.colab.notebook.generateWithVariable('df');\n",
              "      }\n",
              "      })();\n",
              "    </script>\n",
              "  </div>\n",
              "\n",
              "    </div>\n",
              "  </div>\n"
            ],
            "application/vnd.google.colaboratory.intrinsic+json": {
              "type": "dataframe",
              "variable_name": "df",
              "summary": "{\n  \"name\": \"df\",\n  \"rows\": 1704,\n  \"fields\": [\n    {\n      \"column\": \"country\",\n      \"properties\": {\n        \"dtype\": \"category\",\n        \"num_unique_values\": 142,\n        \"samples\": [\n          \"Turkey\",\n          \"Cameroon\",\n          \"Mauritius\"\n        ],\n        \"semantic_type\": \"\",\n        \"description\": \"\"\n      }\n    },\n    {\n      \"column\": \"continent\",\n      \"properties\": {\n        \"dtype\": \"category\",\n        \"num_unique_values\": 5,\n        \"samples\": [\n          \"Europe\",\n          \"Oceania\",\n          \"Africa\"\n        ],\n        \"semantic_type\": \"\",\n        \"description\": \"\"\n      }\n    },\n    {\n      \"column\": \"year\",\n      \"properties\": {\n        \"dtype\": \"number\",\n        \"std\": 17,\n        \"min\": 1952,\n        \"max\": 2007,\n        \"num_unique_values\": 12,\n        \"samples\": [\n          2002,\n          1997,\n          1952\n        ],\n        \"semantic_type\": \"\",\n        \"description\": \"\"\n      }\n    },\n    {\n      \"column\": \"lifeExp\",\n      \"properties\": {\n        \"dtype\": \"number\",\n        \"std\": 12.917107415241187,\n        \"min\": 23.599,\n        \"max\": 82.603,\n        \"num_unique_values\": 1626,\n        \"samples\": [\n          66.662,\n          51.445,\n          62.4\n        ],\n        \"semantic_type\": \"\",\n        \"description\": \"\"\n      }\n    },\n    {\n      \"column\": \"pop\",\n      \"properties\": {\n        \"dtype\": \"number\",\n        \"std\": 106157896,\n        \"min\": 60011,\n        \"max\": 1318683096,\n        \"num_unique_values\": 1704,\n        \"samples\": [\n          23634436,\n          2878220,\n          2156814\n        ],\n        \"semantic_type\": \"\",\n        \"description\": \"\"\n      }\n    },\n    {\n      \"column\": \"gdpPercap\",\n      \"properties\": {\n        \"dtype\": \"number\",\n        \"std\": 9857.454542541445,\n        \"min\": 241.1658765,\n        \"max\": 113523.1329,\n        \"num_unique_values\": 1704,\n        \"samples\": [\n          388.0,\n          5599.077872,\n          6650.195573\n        ],\n        \"semantic_type\": \"\",\n        \"description\": \"\"\n      }\n    }\n  ]\n}"
            }
          },
          "metadata": {},
          "execution_count": 2
        }
      ]
    },
    {
      "cell_type": "code",
      "source": [
        "print(df.dtypes)"
      ],
      "metadata": {
        "colab": {
          "base_uri": "https://localhost:8080/"
        },
        "id": "y9GikIgDS3sS",
        "outputId": "981395eb-e99b-468f-9167-153d5a8eb59f"
      },
      "execution_count": 3,
      "outputs": [
        {
          "output_type": "stream",
          "name": "stdout",
          "text": [
            "country       object\n",
            "continent     object\n",
            "year           int64\n",
            "lifeExp      float64\n",
            "pop            int64\n",
            "gdpPercap    float64\n",
            "dtype: object\n"
          ]
        }
      ]
    },
    {
      "cell_type": "markdown",
      "source": [
        "**Discuss the units of measurement of all the variables.**\n",
        "\n",
        "The gapminder data contains data on life expectancy and GDP per capita by country and year.\n",
        "- country= Name of country (Object)\n",
        "- continent= The continent the country is in (Object)\n",
        "- year= Thea year data was collected (Integer)\n",
        "- lifeExp= Life expectancy at birth,in years (Float)\n",
        "- pop= Population (Integer)\n",
        "- gdpPercap= GDP per capita( US$, inflation adjusted) (Float)\n"
      ],
      "metadata": {
        "id": "twiyuu-4Pn07"
      }
    },
    {
      "cell_type": "code",
      "source": [
        "continuous = [col for col in df if df[col].dtype == 'float64']\n",
        "discrete = [col for col in df if df[col].dtype == 'int64']\n",
        "categorical= [col for col in df if df[col].dtype=='object']\n",
        "\n",
        "print(\"Continuous Variables:\", continuous)\n",
        "print(\"Discrete Variables:\", discrete)\n",
        "print('Categorical:',categorical)"
      ],
      "metadata": {
        "colab": {
          "base_uri": "https://localhost:8080/"
        },
        "id": "coIR_U6rTG7u",
        "outputId": "7d81ec69-a550-4935-ea7f-4c2624a4b3ea"
      },
      "execution_count": 4,
      "outputs": [
        {
          "output_type": "stream",
          "name": "stdout",
          "text": [
            "Continuous Variables: ['lifeExp', 'gdpPercap']\n",
            "Discrete Variables: ['year', 'pop']\n",
            "Categorical: ['country', 'continent']\n"
          ]
        }
      ]
    },
    {
      "cell_type": "code",
      "source": [
        "df.shape"
      ],
      "metadata": {
        "colab": {
          "base_uri": "https://localhost:8080/"
        },
        "id": "aC-RUBZNT4qM",
        "outputId": "cc849a6e-9420-453f-bdb9-73feb96acdd5"
      },
      "execution_count": 5,
      "outputs": [
        {
          "output_type": "execute_result",
          "data": {
            "text/plain": [
              "(1704, 6)"
            ]
          },
          "metadata": {},
          "execution_count": 5
        }
      ]
    },
    {
      "cell_type": "markdown",
      "source": [
        "**List the type of variables of all the variables**\n",
        "\n",
        "Continuous Variables: lifeExp, gdpPercap\n",
        "\n",
        "Discrete Variables: year, pop\n",
        "\n",
        "Categorical: country, continent"
      ],
      "metadata": {
        "id": "mBpfI0alUMDY"
      }
    },
    {
      "cell_type": "markdown",
      "source": [
        "### Part II\n",
        "\n",
        "This section has a maximum of **25 points**. To earn the maximum number of points, you need to create 2 graphs of 2 variables of interest using matplotlib and/or seaborn. One of the two variables should be a continuous variable and the other is a categorical/ ordinal/ binary variable. Both graphs should have title, legend, axis labels, and figure caption.\n"
      ],
      "metadata": {
        "id": "dUIgV26kWiD7"
      }
    },
    {
      "cell_type": "code",
      "source": [
        "# importing various libraries\n",
        "import seaborn as sns\n",
        "import matplotlib.pyplot as plt\n",
        "import matplotlib as mpl\n",
        "import numpy as np\n"
      ],
      "metadata": {
        "id": "zrbrBB9wW7DC"
      },
      "execution_count": 6,
      "outputs": []
    },
    {
      "cell_type": "code",
      "source": [
        "# Chart 1\n",
        "sns.countplot(df, x='continent',color='green')\n",
        "plt.xlabel('Names',fontweight='bold')\n",
        "plt.ylabel('Count',fontweight='bold')\n",
        "plt.title('Number of Observations per continent',fontweight='bold')\n",
        "plt.show()\n",
        "\n",
        "# # this graph shows the distribution of data between given 5 continents"
      ],
      "metadata": {
        "colab": {
          "base_uri": "https://localhost:8080/",
          "height": 472
        },
        "id": "aFue_ME-WToZ",
        "outputId": "4d4a1213-82e9-4e46-942a-a3ce924c5030"
      },
      "execution_count": 7,
      "outputs": [
        {
          "output_type": "display_data",
          "data": {
            "text/plain": [
              "<Figure size 640x480 with 1 Axes>"
            ],
            "image/png": "[encoded data removed]"
          },
          "metadata": {}
        }
      ]
    },
    {
      "cell_type": "code",
      "source": [
        "# Chart 2\n",
        "# # Variables selected for this chart is consisted of GDP Per capita\n",
        "df['log_gdpPercap'] = np.log(df['gdpPercap'])\n",
        "plt.figure(figsize=(14,8))\n",
        "plt.subplot(1, 2, 1)\n",
        "sns.histplot(df['log_gdpPercap'], bins=50, kde=True, color='Red')\n",
        "plt.xlabel('Log GDP Per Capita',fontweight='bold')\n",
        "plt.ylabel('Density',fontweight='bold')\n",
        "plt.title('Density Distribution of GDP Per Capita (US $)',fontweight='bold')\n",
        "plt.show()"
      ],
      "metadata": {
        "colab": {
          "base_uri": "https://localhost:8080/",
          "height": 718
        },
        "id": "jbvyAoHKrXQW",
        "outputId": "f7feb4c7-cf43-4dab-9bf9-cd1bc203bf4a"
      },
      "execution_count": 8,
      "outputs": [
        {
          "output_type": "display_data",
          "data": {
            "text/plain": [
              "<Figure size 1400x800 with 1 Axes>"
            ],
            "image/png": "[encoded data removed]"
          },
          "metadata": {}
        }
      ]
    },
    {
      "cell_type": "markdown",
      "source": [
        "### Part III\n",
        "\n",
        "This section has a maximum of **25 points**. To earn the maximum number of points, present summary statistics for the variables used in the analysis in a table (mean, standard deviation, minimum, maximum, number of observations) and include a summary table with them. All categorical variables, variables that are not continuous (e.g., race, gender), need to be presented by category.\n",
        "\n",
        "In addition, please include a short text explaining 2-3 interesting observations from the summary statistics."
      ],
      "metadata": {
        "id": "opUgkyJLXEH_"
      }
    },
    {
      "cell_type": "markdown",
      "source": [
        "Summary statistics of categorical variables:"
      ],
      "metadata": {
        "id": "bem90HkoGWjp"
      }
    },
    {
      "cell_type": "code",
      "source": [
        "print(df.describe(include=['object']))"
      ],
      "metadata": {
        "id": "ToUWRFWBXO45",
        "colab": {
          "base_uri": "https://localhost:8080/"
        },
        "outputId": "17c70de8-ddb0-4cbc-b910-d6bd2550429d"
      },
      "execution_count": 9,
      "outputs": [
        {
          "output_type": "stream",
          "name": "stdout",
          "text": [
            "            country continent\n",
            "count          1704      1704\n",
            "unique          142         5\n",
            "top     Afghanistan    Africa\n",
            "freq             12       624\n"
          ]
        }
      ]
    },
    {
      "cell_type": "code",
      "source": [
        "#  Number of observations for each country\n",
        "country_counts = df['country'].value_counts()\n",
        "country_percentages = df['country'].value_counts(normalize=True) * 100\n",
        "summary_table = pd.DataFrame({'Count': country_counts, 'Percentage': country_percentages})\n",
        "print(summary_table)"
      ],
      "metadata": {
        "colab": {
          "base_uri": "https://localhost:8080/"
        },
        "id": "DnKiEoXv5uSx",
        "outputId": "188b72ea-3fba-4abb-b867-02ec395a2486"
      },
      "execution_count": 10,
      "outputs": [
        {
          "output_type": "stream",
          "name": "stdout",
          "text": [
            "                   Count  Percentage\n",
            "country                             \n",
            "Afghanistan           12    0.704225\n",
            "Pakistan              12    0.704225\n",
            "New Zealand           12    0.704225\n",
            "Nicaragua             12    0.704225\n",
            "Niger                 12    0.704225\n",
            "...                  ...         ...\n",
            "Eritrea               12    0.704225\n",
            "Equatorial Guinea     12    0.704225\n",
            "El Salvador           12    0.704225\n",
            "Egypt                 12    0.704225\n",
            "Zimbabwe              12    0.704225\n",
            "\n",
            "[142 rows x 2 columns]\n"
          ]
        }
      ]
    },
    {
      "cell_type": "code",
      "source": [
        "#  Number of observations for each continent\n",
        "continent_counts = df['continent'].value_counts()\n",
        "continent_percentages = df['continent'].value_counts(normalize=True) * 100\n",
        "summary_table = pd.DataFrame({'Count': continent_counts, 'Percentage': continent_percentages})\n",
        "print(summary_table)"
      ],
      "metadata": {
        "colab": {
          "base_uri": "https://localhost:8080/"
        },
        "id": "TE7bLjHd6Hij",
        "outputId": "b501a424-e1ce-47ea-e20e-79bffd6d1be9"
      },
      "execution_count": 11,
      "outputs": [
        {
          "output_type": "stream",
          "name": "stdout",
          "text": [
            "           Count  Percentage\n",
            "continent                   \n",
            "Africa       624   36.619718\n",
            "Asia         396   23.239437\n",
            "Europe       360   21.126761\n",
            "Americas     300   17.605634\n",
            "Oceania       24    1.408451\n"
          ]
        }
      ]
    },
    {
      "cell_type": "markdown",
      "source": [
        "Summary statistics of continuous variables:"
      ],
      "metadata": {
        "id": "QcwuLcgZG9Kh"
      }
    },
    {
      "cell_type": "code",
      "source": [
        "df.describe()"
      ],
      "metadata": {
        "colab": {
          "base_uri": "https://localhost:8080/",
          "height": 300
        },
        "id": "6C8maqANX4rL",
        "outputId": "fe47cc92-4468-422c-eee9-05fa4f62353c"
      },
      "execution_count": 12,
      "outputs": [
        {
          "output_type": "execute_result",
          "data": {
            "text/plain": [
              "             year      lifeExp           pop      gdpPercap  log_gdpPercap\n",
              "count  1704.00000  1704.000000  1.704000e+03    1704.000000    1704.000000\n",
              "mean   1979.50000    59.474439  2.960121e+07    7215.327081       8.158791\n",
              "std      17.26533    12.917107  1.061579e+08    9857.454543       1.241164\n",
              "min    1952.00000    23.599000  6.001100e+04     241.165876       5.485485\n",
              "25%    1965.75000    48.198000  2.793664e+06    1202.060309       7.091792\n",
              "50%    1979.50000    60.712500  7.023596e+06    3531.846988       8.169576\n",
              "75%    1993.25000    70.845500  1.958522e+07    9325.462346       9.140504\n",
              "max    2007.00000    82.603000  1.318683e+09  113523.132900      11.639762"
            ],
            "text/html": [
              "\n",
              "  <div id=\"df-84f6af6f-4288-450d-839a-3c111b025848\" class=\"colab-df-container\">\n",
              "    <div>\n",
              "<style scoped>\n",
              "    .dataframe tbody tr th:only-of-type {\n",
              "        vertical-align: middle;\n",
              "    }\n",
              "\n",
              "    .dataframe tbody tr th {\n",
              "        vertical-align: top;\n",
              "    }\n",
              "\n",
              "    .dataframe thead th {\n",
              "        text-align: right;\n",
              "    }\n",
              "</style>\n",
              "<table border=\"1\" class=\"dataframe\">\n",
              "  <thead>\n",
              "    <tr style=\"text-align: right;\">\n",
              "      <th></th>\n",
              "      <th>year</th>\n",
              "      <th>lifeExp</th>\n",
              "      <th>pop</th>\n",
              "      <th>gdpPercap</th>\n",
              "      <th>log_gdpPercap</th>\n",
              "    </tr>\n",
              "  </thead>\n",
              "  <tbody>\n",
              "    <tr>\n",
              "      <th>count</th>\n",
              "      <td>1704.00000</td>\n",
              "      <td>1704.000000</td>\n",
              "      <td>1.704000e+03</td>\n",
              "      <td>1704.000000</td>\n",
              "      <td>1704.000000</td>\n",
              "    </tr>\n",
              "    <tr>\n",
              "      <th>mean</th>\n",
              "      <td>1979.50000</td>\n",
              "      <td>59.474439</td>\n",
              "      <td>2.960121e+07</td>\n",
              "      <td>7215.327081</td>\n",
              "      <td>8.158791</td>\n",
              "    </tr>\n",
              "    <tr>\n",
              "      <th>std</th>\n",
              "      <td>17.26533</td>\n",
              "      <td>12.917107</td>\n",
              "      <td>1.061579e+08</td>\n",
              "      <td>9857.454543</td>\n",
              "      <td>1.241164</td>\n",
              "    </tr>\n",
              "    <tr>\n",
              "      <th>min</th>\n",
              "      <td>1952.00000</td>\n",
              "      <td>23.599000</td>\n",
              "      <td>6.001100e+04</td>\n",
              "      <td>241.165876</td>\n",
              "      <td>5.485485</td>\n",
              "    </tr>\n",
              "    <tr>\n",
              "      <th>25%</th>\n",
              "      <td>1965.75000</td>\n",
              "      <td>48.198000</td>\n",
              "      <td>2.793664e+06</td>\n",
              "      <td>1202.060309</td>\n",
              "      <td>7.091792</td>\n",
              "    </tr>\n",
              "    <tr>\n",
              "      <th>50%</th>\n",
              "      <td>1979.50000</td>\n",
              "      <td>60.712500</td>\n",
              "      <td>7.023596e+06</td>\n",
              "      <td>3531.846988</td>\n",
              "      <td>8.169576</td>\n",
              "    </tr>\n",
              "    <tr>\n",
              "      <th>75%</th>\n",
              "      <td>1993.25000</td>\n",
              "      <td>70.845500</td>\n",
              "      <td>1.958522e+07</td>\n",
              "      <td>9325.462346</td>\n",
              "      <td>9.140504</td>\n",
              "    </tr>\n",
              "    <tr>\n",
              "      <th>max</th>\n",
              "      <td>2007.00000</td>\n",
              "      <td>82.603000</td>\n",
              "      <td>1.318683e+09</td>\n",
              "      <td>113523.132900</td>\n",
              "      <td>11.639762</td>\n",
              "    </tr>\n",
              "  </tbody>\n",
              "</table>\n",
              "</div>\n",
              "    <div class=\"colab-df-buttons\">\n",
              "\n",
              "  <div class=\"colab-df-container\">\n",
              "    <button class=\"colab-df-convert\" onclick=\"convertToInteractive('df-84f6af6f-4288-450d-839a-3c111b025848')\"\n",
              "            title=\"Convert this dataframe to an interactive table.\"\n",
              "            style=\"display:none;\">\n",
              "\n",
              "  <svg xmlns=\"http://www.w3.org/2000/svg\" height=\"24px\" viewBox=\"0 -960 960 960\">\n",
              "    <path d=\"M120-120v-720h720v720H120Zm60-500h600v-160H180v160Zm220 220h160v-160H400v160Zm0 220h160v-160H400v160ZM180-400h160v-160H180v160Zm440 0h160v-160H620v160ZM180-180h160v-160H180v160Zm440 0h160v-160H620v160Z\"/>\n",
              "  </svg>\n",
              "    </button>\n",
              "\n",
              "  <style>\n",
              "    .colab-df-container {\n",
              "      display:flex;\n",
              "      gap: 12px;\n",
              "    }\n",
              "\n",
              "    .colab-df-convert {\n",
              "      background-color: #E8F0FE;\n",
              "      border: none;\n",
              "      border-radius: 50%;\n",
              "      cursor: pointer;\n",
              "      display: none;\n",
              "      fill: #1967D2;\n",
              "      height: 32px;\n",
              "      padding: 0 0 0 0;\n",
              "      width: 32px;\n",
              "    }\n",
              "\n",
              "    .colab-df-convert:hover {\n",
              "      background-color: #E2EBFA;\n",
              "      box-shadow: 0px 1px 2px rgba(60, 64, 67, 0.3), 0px 1px 3px 1px rgba(60, 64, 67, 0.15);\n",
              "      fill: #174EA6;\n",
              "    }\n",
              "\n",
              "    .colab-df-buttons div {\n",
              "      margin-bottom: 4px;\n",
              "    }\n",
              "\n",
              "    [theme=dark] .colab-df-convert {\n",
              "      background-color: #3B4455;\n",
              "      fill: #D2E3FC;\n",
              "    }\n",
              "\n",
              "    [theme=dark] .colab-df-convert:hover {\n",
              "      background-color: #434B5C;\n",
              "      box-shadow: 0px 1px 3px 1px rgba(0, 0, 0, 0.15);\n",
              "      filter: drop-shadow(0px 1px 2px rgba(0, 0, 0, 0.3));\n",
              "      fill: #FFFFFF;\n",
              "    }\n",
              "  </style>\n",
              "\n",
              "    <script>\n",
              "      const buttonEl =\n",
              "        document.querySelector('#df-84f6af6f-4288-450d-839a-3c111b025848 button.colab-df-convert');\n",
              "      buttonEl.style.display =\n",
              "        google.colab.kernel.accessAllowed ? 'block' : 'none';\n",
              "\n",
              "      async function convertToInteractive(key) {\n",
              "        const element = document.querySelector('#df-84f6af6f-4288-450d-839a-3c111b025848');\n",
              "        const dataTable =\n",
              "          await google.colab.kernel.invokeFunction('convertToInteractive',\n",
              "                                                    [key], {});\n",
              "        if (!dataTable) return;\n",
              "\n",
              "        const docLinkHtml = 'Like what you see? Visit the ' +\n",
              "          '<a target=\"_blank\" href=https://colab.research.google.com/notebooks/data_table.ipynb>data table notebook</a>'\n",
              "          + ' to learn more about interactive tables.';\n",
              "        element.innerHTML = '';\n",
              "        dataTable['output_type'] = 'display_data';\n",
              "        await google.colab.output.renderOutput(dataTable, element);\n",
              "        const docLink = document.createElement('div');\n",
              "        docLink.innerHTML = docLinkHtml;\n",
              "        element.appendChild(docLink);\n",
              "      }\n",
              "    </script>\n",
              "  </div>\n",
              "\n",
              "\n",
              "<div id=\"df-eb700d32-b2b2-4e23-b606-0ff1c091e189\">\n",
              "  <button class=\"colab-df-quickchart\" onclick=\"quickchart('df-eb700d32-b2b2-4e23-b606-0ff1c091e189')\"\n",
              "            title=\"Suggest charts\"\n",
              "            style=\"display:none;\">\n",
              "\n",
              "<svg xmlns=\"http://www.w3.org/2000/svg\" height=\"24px\"viewBox=\"0 0 24 24\"\n",
              "     width=\"24px\">\n",
              "    <g>\n",
              "        <path d=\"M19 3H5c-1.1 0-2 .9-2 2v14c0 1.1.9 2 2 2h14c1.1 0 2-.9 2-2V5c0-1.1-.9-2-2-2zM9 17H7v-7h2v7zm4 0h-2V7h2v10zm4 0h-2v-4h2v4z\"/>\n",
              "    </g>\n",
              "</svg>\n",
              "  </button>\n",
              "\n",
              "<style>\n",
              "  .colab-df-quickchart {\n",
              "      --bg-color: #E8F0FE;\n",
              "      --fill-color: #1967D2;\n",
              "      --hover-bg-color: #E2EBFA;\n",
              "      --hover-fill-color: #174EA6;\n",
              "      --disabled-fill-color: #AAA;\n",
              "      --disabled-bg-color: #DDD;\n",
              "  }\n",
              "\n",
              "  [theme=dark] .colab-df-quickchart {\n",
              "      --bg-color: #3B4455;\n",
              "      --fill-color: #D2E3FC;\n",
              "      --hover-bg-color: #434B5C;\n",
              "      --hover-fill-color: #FFFFFF;\n",
              "      --disabled-bg-color: #3B4455;\n",
              "      --disabled-fill-color: #666;\n",
              "  }\n",
              "\n",
              "  .colab-df-quickchart {\n",
              "    background-color: var(--bg-color);\n",
              "    border: none;\n",
              "    border-radius: 50%;\n",
              "    cursor: pointer;\n",
              "    display: none;\n",
              "    fill: var(--fill-color);\n",
              "    height: 32px;\n",
              "    padding: 0;\n",
              "    width: 32px;\n",
              "  }\n",
              "\n",
              "  .colab-df-quickchart:hover {\n",
              "    background-color: var(--hover-bg-color);\n",
              "    box-shadow: 0 1px 2px rgba(60, 64, 67, 0.3), 0 1px 3px 1px rgba(60, 64, 67, 0.15);\n",
              "    fill: var(--button-hover-fill-color);\n",
              "  }\n",
              "\n",
              "  .colab-df-quickchart-complete:disabled,\n",
              "  .colab-df-quickchart-complete:disabled:hover {\n",
              "    background-color: var(--disabled-bg-color);\n",
              "    fill: var(--disabled-fill-color);\n",
              "    box-shadow: none;\n",
              "  }\n",
              "\n",
              "  .colab-df-spinner {\n",
              "    border: 2px solid var(--fill-color);\n",
              "    border-color: transparent;\n",
              "    border-bottom-color: var(--fill-color);\n",
              "    animation:\n",
              "      spin 1s steps(1) infinite;\n",
              "  }\n",
              "\n",
              "  @keyframes spin {\n",
              "    0% {\n",
              "      border-color: transparent;\n",
              "      border-bottom-color: var(--fill-color);\n",
              "      border-left-color: var(--fill-color);\n",
              "    }\n",
              "    20% {\n",
              "      border-color: transparent;\n",
              "      border-left-color: var(--fill-color);\n",
              "      border-top-color: var(--fill-color);\n",
              "    }\n",
              "    30% {\n",
              "      border-color: transparent;\n",
              "      border-left-color: var(--fill-color);\n",
              "      border-top-color: var(--fill-color);\n",
              "      border-right-color: var(--fill-color);\n",
              "    }\n",
              "    40% {\n",
              "      border-color: transparent;\n",
              "      border-right-color: var(--fill-color);\n",
              "      border-top-color: var(--fill-color);\n",
              "    }\n",
              "    60% {\n",
              "      border-color: transparent;\n",
              "      border-right-color: var(--fill-color);\n",
              "    }\n",
              "    80% {\n",
              "      border-color: transparent;\n",
              "      border-right-color: var(--fill-color);\n",
              "      border-bottom-color: var(--fill-color);\n",
              "    }\n",
              "    90% {\n",
              "      border-color: transparent;\n",
              "      border-bottom-color: var(--fill-color);\n",
              "    }\n",
              "  }\n",
              "</style>\n",
              "\n",
              "  <script>\n",
              "    async function quickchart(key) {\n",
              "      const quickchartButtonEl =\n",
              "        document.querySelector('#' + key + ' button');\n",
              "      quickchartButtonEl.disabled = true;  // To prevent multiple clicks.\n",
              "      quickchartButtonEl.classList.add('colab-df-spinner');\n",
              "      try {\n",
              "        const charts = await google.colab.kernel.invokeFunction(\n",
              "            'suggestCharts', [key], {});\n",
              "      } catch (error) {\n",
              "        console.error('Error during call to suggestCharts:', error);\n",
              "      }\n",
              "      quickchartButtonEl.classList.remove('colab-df-spinner');\n",
              "      quickchartButtonEl.classList.add('colab-df-quickchart-complete');\n",
              "    }\n",
              "    (() => {\n",
              "      let quickchartButtonEl =\n",
              "        document.querySelector('#df-eb700d32-b2b2-4e23-b606-0ff1c091e189 button');\n",
              "      quickchartButtonEl.style.display =\n",
              "        google.colab.kernel.accessAllowed ? 'block' : 'none';\n",
              "    })();\n",
              "  </script>\n",
              "</div>\n",
              "\n",
              "    </div>\n",
              "  </div>\n"
            ],
            "application/vnd.google.colaboratory.intrinsic+json": {
              "type": "dataframe",
              "summary": "{\n  \"name\": \"df\",\n  \"rows\": 8,\n  \"fields\": [\n    {\n      \"column\": \"year\",\n      \"properties\": {\n        \"dtype\": \"number\",\n        \"std\": 686.837859857699,\n        \"min\": 17.265329508973615,\n        \"max\": 2007.0,\n        \"num_unique_values\": 7,\n        \"samples\": [\n          1704.0,\n          1979.5,\n          1993.25\n        ],\n        \"semantic_type\": \"\",\n        \"description\": \"\"\n      }\n    },\n    {\n      \"column\": \"lifeExp\",\n      \"properties\": {\n        \"dtype\": \"number\",\n        \"std\": 584.815924898437,\n        \"min\": 12.917107415241187,\n        \"max\": 1704.0,\n        \"num_unique_values\": 8,\n        \"samples\": [\n          59.474439366197174,\n          60.7125,\n          1704.0\n        ],\n        \"semantic_type\": \"\",\n        \"description\": \"\"\n      }\n    },\n    {\n      \"column\": \"pop\",\n      \"properties\": {\n        \"dtype\": \"number\",\n        \"std\": 459232944.69794166,\n        \"min\": 1704.0,\n        \"max\": 1318683096.0,\n        \"num_unique_values\": 8,\n        \"samples\": [\n          29601212.324530516,\n          7023595.5,\n          1704.0\n        ],\n        \"semantic_type\": \"\",\n        \"description\": \"\"\n      }\n    },\n    {\n      \"column\": \"gdpPercap\",\n      \"properties\": {\n        \"dtype\": \"number\",\n        \"std\": 38645.11701056914,\n        \"min\": 241.1658765,\n        \"max\": 113523.1329,\n        \"num_unique_values\": 8,\n        \"samples\": [\n          7215.327081212149,\n          3531.8469885,\n          1704.0\n        ],\n        \"semantic_type\": \"\",\n        \"description\": \"\"\n      }\n    },\n    {\n      \"column\": \"log_gdpPercap\",\n      \"properties\": {\n        \"dtype\": \"number\",\n        \"std\": 599.890363323444,\n        \"min\": 1.2411637655021235,\n        \"max\": 1704.0,\n        \"num_unique_values\": 8,\n        \"samples\": [\n          8.158790653055217,\n          8.169576185645672,\n          1704.0\n        ],\n        \"semantic_type\": \"\",\n        \"description\": \"\"\n      }\n    }\n  ]\n}"
            }
          },
          "metadata": {},
          "execution_count": 12
        }
      ]
    },
    {
      "cell_type": "markdown",
      "source": [
        "- The GDP per capita ranges from USD 241.16 to  USD 113,523.13, showing a huge gap between the poorest and richest regions or countries\n",
        "\n",
        "- The population varies widely, from 60,011 people to 1.31 billion. The average population is 29.6 million, but the standard deviation is very high.\n",
        "\n",
        "- The median life expectancy (60.71 years) is higher than the 25th percentile (48.2 years), showing that most countries have improved their life expectancy over time."
      ],
      "metadata": {
        "id": "V9bzD8wv_daA"
      }
    },
    {
      "cell_type": "markdown",
      "source": [
        "### Part IV\n",
        "\n",
        "This section has a maximum **30 points**. To earn the maximum number of points, you need to answer the following questions:\n",
        "\n",
        "Write the equation you estimate.\n",
        "\n",
        "* A convincing discussion of what variables to control for is essential. Are your results causal or not? Discuss potential concerns with omitted variables etc along with the consequences of those problems.\n",
        "\n",
        "* Present your results in a table that includes coefficients, standard error, R-squared and number of observations. The control variables should be added one by one, and the results should be reported in separate columns (number of observations should be constant)\n",
        "\n",
        "* Write about the magnitude and interpretations of your coefficients. Are they statistically significant (includes significance levels in tables)? Do they have or not the expected sign (this may indicate a specification problem, for example, omitted variables)?"
      ],
      "metadata": {
        "id": "0GWhOjXDXUqD"
      }
    },
    {
      "cell_type": "markdown",
      "source": [
        "**A convincing discussion of what variables to control for is essential. Are your results causal or not? Discuss potential concerns with omitted variables etc along with the consequences of those problems.**\n",
        "\n",
        "\n",
        "When examining the connection between GDP per capita and life expectancy, it is important to account for critical factors like education, population density, and government policies. These elements impact both economic development and health outcomes, helping minimize the risk of omitted variable bias.\n",
        "\n",
        "The findings might not be fully causal, as there could be reverse causality (where longer life expectancy drives economic growth) or omitted variables (such as political stability influencing both GDP and health). Failing to consider these factors could lead to skewed estimates, distorting the actual relationship. Employing techniques like instrumental variables or fixed effects models can help mitigate these concerns."
      ],
      "metadata": {
        "id": "lsiNqKWT-sKJ"
      }
    },
    {
      "cell_type": "markdown",
      "source": [
        "**Present your results in a table that includes coefficients, standard error, R-squared and number of observations. The control variables should be added one by one, and the results should be reported in separate columns (number of observations should be constant)**"
      ],
      "metadata": {
        "id": "7HHR_smz-7jC"
      }
    },
    {
      "cell_type": "code",
      "source": [
        "# finding regression summaries and importing libraries\n",
        "!pip install statsmodels\n",
        "import statsmodels.formula.api as sm\n",
        "\n",
        "df['log_lifeExp'] = np.log(df['lifeExp'])\n",
        "df['log_pop']=np.log(df['pop'])\n",
        "\n",
        "\n",
        "Regression1 = sm.ols(formula = 'log_lifeExp ~ log_gdpPercap', data = df).fit()\n",
        "print(Regression1.summary())\n",
        "\n",
        "Regression2 = sm.ols(formula = 'log_lifeExp ~ log_gdpPercap + log_pop', data = df).fit()\n",
        "print(Regression2.summary())"
      ],
      "metadata": {
        "colab": {
          "base_uri": "https://localhost:8080/"
        },
        "id": "rhhFN-j2M8Ip",
        "outputId": "c3e416c0-b59a-4c89-878a-e8b946487764"
      },
      "execution_count": 25,
      "outputs": [
        {
          "output_type": "stream",
          "name": "stdout",
          "text": [
            "Requirement already satisfied: statsmodels in /usr/local/lib/python3.11/dist-packages (0.14.4)\n",
            "Requirement already satisfied: numpy<3,>=1.22.3 in /usr/local/lib/python3.11/dist-packages (from statsmodels) (1.26.4)\n",
            "Requirement already satisfied: scipy!=1.9.2,>=1.8 in /usr/local/lib/python3.11/dist-packages (from statsmodels) (1.13.1)\n",
            "Requirement already satisfied: pandas!=2.1.0,>=1.4 in /usr/local/lib/python3.11/dist-packages (from statsmodels) (2.2.2)\n",
            "Requirement already satisfied: patsy>=0.5.6 in /usr/local/lib/python3.11/dist-packages (from statsmodels) (1.0.1)\n",
            "Requirement already satisfied: packaging>=21.3 in /usr/local/lib/python3.11/dist-packages (from statsmodels) (24.2)\n",
            "Requirement already satisfied: python-dateutil>=2.8.2 in /usr/local/lib/python3.11/dist-packages (from pandas!=2.1.0,>=1.4->statsmodels) (2.8.2)\n",
            "Requirement already satisfied: pytz>=2020.1 in /usr/local/lib/python3.11/dist-packages (from pandas!=2.1.0,>=1.4->statsmodels) (2025.1)\n",
            "Requirement already satisfied: tzdata>=2022.7 in /usr/local/lib/python3.11/dist-packages (from pandas!=2.1.0,>=1.4->statsmodels) (2025.1)\n",
            "Requirement already satisfied: six>=1.5 in /usr/local/lib/python3.11/dist-packages (from python-dateutil>=2.8.2->pandas!=2.1.0,>=1.4->statsmodels) (1.17.0)\n",
            "                            OLS Regression Results                            \n",
            "==============================================================================\n",
            "Dep. Variable:            log_lifeExp   R-squared:                       0.552\n",
            "Model:                            OLS   Adj. R-squared:                  0.552\n",
            "Method:                 Least Squares   F-statistic:                     2100.\n",
            "Date:                Thu, 13 Feb 2025   Prob (F-statistic):          2.50e-299\n",
            "Time:                        21:41:07   Log-Likelihood:                 1678.6\n",
            "No. Observations:                1704   AIC:                            -3353.\n",
            "Df Residuals:                    1702   BIC:                            -3342.\n",
            "Df Model:                           1                                         \n",
            "Covariance Type:            nonrobust                                         \n",
            "=================================================================================\n",
            "                    coef    std err          t      P>|t|      [0.025      0.975]\n",
            "---------------------------------------------------------------------------------\n",
            "Intercept        -1.7616      0.015   -120.938      0.000      -1.790      -1.733\n",
            "log_gdpPercap     0.0809      0.002     45.823      0.000       0.077       0.084\n",
            "==============================================================================\n",
            "Omnibus:                      500.699   Durbin-Watson:                   0.471\n",
            "Prob(Omnibus):                  0.000   Jarque-Bera (JB):             2022.080\n",
            "Skew:                          -1.371   Prob(JB):                         0.00\n",
            "Kurtosis:                       7.579   Cond. No.                         55.7\n",
            "==============================================================================\n",
            "\n",
            "Notes:\n",
            "[1] Standard Errors assume that the covariance matrix of the errors is correctly specified.\n",
            "                            OLS Regression Results                            \n",
            "==============================================================================\n",
            "Dep. Variable:            log_lifeExp   R-squared:                       0.578\n",
            "Model:                            OLS   Adj. R-squared:                  0.578\n",
            "Method:                 Least Squares   F-statistic:                     1166.\n",
            "Date:                Thu, 13 Feb 2025   Prob (F-statistic):          1.35e-319\n",
            "Time:                        21:41:07   Log-Likelihood:                 1729.5\n",
            "No. Observations:                1704   AIC:                            -3453.\n",
            "Df Residuals:                    1701   BIC:                            -3437.\n",
            "Df Model:                           2                                         \n",
            "Covariance Type:            nonrobust                                         \n",
            "=================================================================================\n",
            "                    coef    std err          t      P>|t|      [0.025      0.975]\n",
            "---------------------------------------------------------------------------------\n",
            "Intercept        -1.7621      0.014   -124.600      0.000      -1.790      -1.734\n",
            "log_gdpPercap     0.0802      0.002     46.739      0.000       0.077       0.084\n",
            "log_pop           0.5782      0.057     10.224      0.000       0.467       0.689\n",
            "==============================================================================\n",
            "Omnibus:                      491.166   Durbin-Watson:                   0.467\n",
            "Prob(Omnibus):                  0.000   Jarque-Bera (JB):             2171.393\n",
            "Skew:                          -1.311   Prob(JB):                         0.00\n",
            "Kurtosis:                       7.869   Cond. No.                         221.\n",
            "==============================================================================\n",
            "\n",
            "Notes:\n",
            "[1] Standard Errors assume that the covariance matrix of the errors is correctly specified.\n"
          ]
        }
      ]
    },
    {
      "cell_type": "markdown",
      "source": [
        "**Write about the magnitude and interpretations of your coefficients. Are they statistically significant (includes significance levels in tables)? Do they have or not the expected sign (this may indicate a specification problem, for example, omitted variables)?**\n",
        "\n",
        "- Here R-squared is 55.2% and when 1 variable is added to control variable there is slight increase by 0.2% in R-squared.\n",
        "\n",
        "- The magnitude of the coefficients indicates the strength of the relationship between GDP per capita and life expectancy. A positive coefficient suggests that higher income levels are associated with increased longevity. Statistical significance, measured by p-values and confidence intervals, determines whether the effect is likely real or due to chance.\n",
        "\n",
        "- If coefficients have unexpected signs (e.g., negative GDP effect on life expectancy), it may indicate omitted variable bias, measurement errors, or model misspecification. Including additional control variables and checking robustness through alternative specifications can improve reliability. Significance levels in tables (e.g., p < 0.05) confirm whether results are meaningful.\n",
        "\n"
      ],
      "metadata": {
        "id": "3uzSLTan_CoP"
      }
    },
    {
      "cell_type": "markdown",
      "source": [
        "### Part V\n",
        "\n",
        "This section has a maximum of **10 points**. To earn the maximum number of points, discuss potential causes of the endogeneity problem in your regression."
      ],
      "metadata": {
        "id": "kkST9PFhXvhi"
      }
    },
    {
      "cell_type": "markdown",
      "source": [
        "**Defining Endogenity**\n",
        "\n",
        "Endogeneity refers to a situation in regression analysis where an independent variable is correlated with the error term. This violates the assumption of exogeneity in ordinary least squares (OLS) regression, leading to biased and inconsistent parameter estimates.\n",
        "\n",
        "\n",
        "**Potential causes of Endogeneity**\n",
        "\n",
        "Endogeneity arises in the regression due to the following factors:\n",
        "\n",
        "Omitted Variable Bias: Excluding key factors like education, governance, income, climate, healthcare quality distorts the true relationships between variables.\n",
        "\n",
        "Simultaneity (Reverse Causality): GDP per capita can influence life expectancy and population growth, reversing the expected causal direction.\n",
        "\n",
        "Selection Bias: Non-representative data (e.g., wealthier countries with better data systems) skews the results.\n",
        "\n",
        "Consequences of Endogeneity:\n",
        "\n",
        "- Biased estimates- The estimated coefficients do not reflect the true causal relationship, leading to incorrect conclusions.\n",
        "\n",
        "- Inconsistent coefficient estimates- As the sample size increases, the estimates do not converge to the true parameter value, making predictions unreliable.\n",
        "\n",
        "- Poor predictive accuracy- In finance and economics, biased models can lead to wrong decisions about risk assessment, investment strategies, or policy implementations.\n",
        "\n",
        "Mitigation Strategies:\n",
        "\n",
        "- Use instrumental variables (e.g., historical factors)- Use instruments that are correlated with the endogenous variable but not with the error term.\n",
        "\n",
        "- Lagged Variables- Using past values to reduce simultaneity.\n"
      ],
      "metadata": {
        "id": "3LltUMnT_NVm"
      }
    },
    {
      "cell_type": "markdown",
      "source": [
        "\n",
        "\n",
        "---\n",
        "**Thank You**\n",
        "\n",
        "---\n",
        "\n",
        "\n"
      ],
      "metadata": {
        "id": "oaY_aGS6MAqi"
      }
    }
  ]
}